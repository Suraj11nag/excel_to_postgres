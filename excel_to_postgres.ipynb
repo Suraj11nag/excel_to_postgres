{
 "cells": [
  {
   "cell_type": "code",
   "execution_count": 1,
   "metadata": {},
   "outputs": [],
   "source": [
    "import pandas as pd\n",
    "from sqlalchemy import create_engine"
   ]
  },
  {
   "cell_type": "code",
   "execution_count": 2,
   "metadata": {},
   "outputs": [],
   "source": [
    "# Path to your Excel file\n",
    "excel_file_path = '/Users/surajnag/Downloads/AKKO-Data-Set.xlsx'"
   ]
  },
  {
   "cell_type": "code",
   "execution_count": 3,
   "metadata": {},
   "outputs": [],
   "source": [
    "# PostgreSQL connection details\n",
    "postgres_user = 'surajnag'\n",
    "postgres_password = 'suraj'\n",
    "postgres_host = 'localhost'\n",
    "postgres_port = '5432'\n",
    "postgres_db = 'mydb'\n",
    "schema_name = 'public'"
   ]
  },
  {
   "cell_type": "code",
   "execution_count": 4,
   "metadata": {},
   "outputs": [],
   "source": [
    "# Create a connection string\n",
    "connection_string = f'postgresql://{postgres_user}:{postgres_password}@{postgres_host}:{postgres_port}/{postgres_db}'"
   ]
  },
  {
   "cell_type": "code",
   "execution_count": 5,
   "metadata": {},
   "outputs": [],
   "source": [
    "# Create an SQLAlchemy engine\n",
    "engine = create_engine(connection_string)"
   ]
  },
  {
   "cell_type": "code",
   "execution_count": 6,
   "metadata": {},
   "outputs": [],
   "source": [
    "# Read all sheet names from the Excel file\n",
    "sheet_names = pd.ExcelFile(excel_file_path).sheet_names"
   ]
  },
  {
   "cell_type": "code",
   "execution_count": 7,
   "metadata": {},
   "outputs": [
    {
     "name": "stdout",
     "output_type": "stream",
     "text": [
      "Data from sheet 'User table' has been successfully inserted into table 'public.user_table' in the database.\n",
      "Data from sheet 'Claims Table' has been successfully inserted into table 'public.claims_table' in the database.\n",
      "Data from sheet 'Claim Devices Table' has been successfully inserted into table 'public.claim_devices_table' in the database.\n",
      "Data from sheet 'Devices Table' has been successfully inserted into table 'public.devices_table' in the database.\n"
     ]
    }
   ],
   "source": [
    "# Loop through each sheet and upload to PostgreSQL\n",
    "for sheet_name in sheet_names:\n",
    "    # Read the sheet into a DataFrame\n",
    "    df = pd.read_excel(excel_file_path, sheet_name=sheet_name)\n",
    "    \n",
    "    # Clean the sheet name to use as a table name (optional)\n",
    "    table_name = sheet_name.strip().replace(' ', '_').lower()\n",
    "    \n",
    "    # Insert the data into PostgreSQL\n",
    "    try:\n",
    "        df.to_sql(table_name, engine, if_exists='replace', index=False, schema=schema_name)\n",
    "        print(f\"Data from sheet '{sheet_name}' has been successfully inserted into table '{schema_name}.{table_name}' in the database.\")\n",
    "    except Exception as e:\n",
    "        print(f\"Error uploading data from sheet '{sheet_name}': {e}\")"
   ]
  }
 ],
 "metadata": {
  "kernelspec": {
   "display_name": "Python 3",
   "language": "python",
   "name": "python3"
  },
  "language_info": {
   "codemirror_mode": {
    "name": "ipython",
    "version": 3
   },
   "file_extension": ".py",
   "mimetype": "text/x-python",
   "name": "python",
   "nbconvert_exporter": "python",
   "pygments_lexer": "ipython3",
   "version": "3.11.11"
  }
 },
 "nbformat": 4,
 "nbformat_minor": 2
}
